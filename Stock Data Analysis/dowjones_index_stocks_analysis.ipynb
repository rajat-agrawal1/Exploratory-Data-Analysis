{
 "cells": [
  {
   "cell_type": "markdown",
   "metadata": {},
   "source": [
    "## DowJones Industrial Average Index Stocks Analysis"
   ]
  },
  {
   "cell_type": "markdown",
   "metadata": {},
   "source": [
    "### Introduction\n",
    "This EDA project aims to extract stocks and respective data, which make up DowJones Industrial Average Index.  \n",
    "Data will be extracted using python's own library for yahoo finance called 'yahoo_fin'."
   ]
  },
  {
   "cell_type": "markdown",
   "metadata": {},
   "source": [
    "### Outline\n",
    "1)"
   ]
  },
  {
   "cell_type": "markdown",
   "metadata": {},
   "source": [
    "<hr style=\"border-top: 2px solid blue; margin-top: 1px; margin-bottom: 1px\"></hr>"
   ]
  },
  {
   "cell_type": "code",
   "execution_count": 3,
   "metadata": {},
   "outputs": [],
   "source": [
    "import numpy as np\n",
    "\n",
    "import pandas as pd\n",
    "pd.set_option('max_rows', 50)   \n",
    "pd.set_option('max_columns', 100)\n",
    "pd.set_option('precision', 2)   # round to two decimal points\n",
    "pd.set_option('float_format', '{:,.2f}'.format)   # suppress scientific notation globally\n",
    "\n",
    "import datetime\n",
    "\n",
    "# Yahoo_fin has two modules - stock_info and options\n",
    "from yahoo_fin.stock_info import\\\n",
    "get_analysts_info, get_balance_sheet, get_cash_flow, get_data,\\\n",
    "get_day_gainers,get_day_losers, get_day_most_active,\\\n",
    "get_holders, get_income_statement, get_live_price,\\\n",
    "tickers_dow, tickers_nasdaq, tickers_sp500,\\\n",
    "get_quote_table, get_stats, get_stats_valuation\\\n",
    "\n",
    "import matplotlib.pyplot as plt\n",
    "%matplotlib inline\n",
    "plt.style.use('fivethirtyeight')\n",
    "\n",
    "import seaborn as sns\n",
    "\n",
    "from IPython.core.interactiveshell import InteractiveShell\n",
    "InteractiveShell.ast_node_interactivity = \"all\""
   ]
  },
  {
   "cell_type": "markdown",
   "metadata": {},
   "source": [
    "#### Get List of Stocks in Dow Jones Index"
   ]
  },
  {
   "cell_type": "code",
   "execution_count": 4,
   "metadata": {},
   "outputs": [
    {
     "data": {
      "text/plain": [
       "['AAPL',\n",
       " 'AMGN',\n",
       " 'AXP',\n",
       " 'BA',\n",
       " 'CAT',\n",
       " 'CRM',\n",
       " 'CSCO',\n",
       " 'CVX',\n",
       " 'DIS',\n",
       " 'DOW',\n",
       " 'GS',\n",
       " 'HD',\n",
       " 'HON',\n",
       " 'IBM',\n",
       " 'INTC',\n",
       " 'JNJ',\n",
       " 'JPM',\n",
       " 'KO',\n",
       " 'MCD',\n",
       " 'MMM',\n",
       " 'MRK',\n",
       " 'MSFT',\n",
       " 'NKE',\n",
       " 'PG',\n",
       " 'TRV',\n",
       " 'UNH',\n",
       " 'V',\n",
       " 'VZ',\n",
       " 'WBA',\n",
       " 'WMT']"
      ]
     },
     "execution_count": 4,
     "metadata": {},
     "output_type": "execute_result"
    },
    {
     "data": {
      "text/plain": [
       "30"
      ]
     },
     "execution_count": 4,
     "metadata": {},
     "output_type": "execute_result"
    }
   ],
   "source": [
    "dow_stocks = tickers_dow()\n",
    "dow_stocks\n",
    "len(dow_stocks)"
   ]
  },
  {
   "cell_type": "markdown",
   "metadata": {},
   "source": [
    "#### Get Average Monthly Data for all 30 Dow Jones Stocks, for Year 2020"
   ]
  },
  {
   "cell_type": "code",
   "execution_count": 5,
   "metadata": {},
   "outputs": [],
   "source": [
    "dow_historical = {}\n",
    "for stock in dow_stocks:\n",
    "    dow_historical[stock] = get_data(stock, start_date='01/01/2020', end_date='31/12/2020', index_as_date = False, interval='1mo')"
   ]
  },
  {
   "cell_type": "code",
   "execution_count": 6,
   "metadata": {},
   "outputs": [
    {
     "data": {
      "text/html": [
       "<div>\n",
       "<style scoped>\n",
       "    .dataframe tbody tr th:only-of-type {\n",
       "        vertical-align: middle;\n",
       "    }\n",
       "\n",
       "    .dataframe tbody tr th {\n",
       "        vertical-align: top;\n",
       "    }\n",
       "\n",
       "    .dataframe thead th {\n",
       "        text-align: right;\n",
       "    }\n",
       "</style>\n",
       "<table border=\"1\" class=\"dataframe\">\n",
       "  <thead>\n",
       "    <tr style=\"text-align: right;\">\n",
       "      <th></th>\n",
       "      <th>date</th>\n",
       "      <th>open</th>\n",
       "      <th>high</th>\n",
       "      <th>low</th>\n",
       "      <th>close</th>\n",
       "      <th>adjclose</th>\n",
       "      <th>volume</th>\n",
       "      <th>ticker</th>\n",
       "    </tr>\n",
       "  </thead>\n",
       "  <tbody>\n",
       "    <tr>\n",
       "      <th>0</th>\n",
       "      <td>2020-01-01</td>\n",
       "      <td>74.06</td>\n",
       "      <td>81.96</td>\n",
       "      <td>73.19</td>\n",
       "      <td>77.38</td>\n",
       "      <td>76.36</td>\n",
       "      <td>2934370400</td>\n",
       "      <td>AAPL</td>\n",
       "    </tr>\n",
       "    <tr>\n",
       "      <th>1</th>\n",
       "      <td>2020-02-01</td>\n",
       "      <td>76.07</td>\n",
       "      <td>81.81</td>\n",
       "      <td>64.09</td>\n",
       "      <td>68.34</td>\n",
       "      <td>67.44</td>\n",
       "      <td>3019279200</td>\n",
       "      <td>AAPL</td>\n",
       "    </tr>\n",
       "    <tr>\n",
       "      <th>2</th>\n",
       "      <td>2020-03-01</td>\n",
       "      <td>70.57</td>\n",
       "      <td>76.00</td>\n",
       "      <td>53.15</td>\n",
       "      <td>63.57</td>\n",
       "      <td>62.88</td>\n",
       "      <td>6280072400</td>\n",
       "      <td>AAPL</td>\n",
       "    </tr>\n",
       "    <tr>\n",
       "      <th>3</th>\n",
       "      <td>2020-04-01</td>\n",
       "      <td>61.62</td>\n",
       "      <td>73.63</td>\n",
       "      <td>59.22</td>\n",
       "      <td>73.45</td>\n",
       "      <td>72.65</td>\n",
       "      <td>3265299200</td>\n",
       "      <td>AAPL</td>\n",
       "    </tr>\n",
       "    <tr>\n",
       "      <th>4</th>\n",
       "      <td>2020-05-01</td>\n",
       "      <td>71.56</td>\n",
       "      <td>81.06</td>\n",
       "      <td>71.46</td>\n",
       "      <td>79.49</td>\n",
       "      <td>78.62</td>\n",
       "      <td>2805936000</td>\n",
       "      <td>AAPL</td>\n",
       "    </tr>\n",
       "  </tbody>\n",
       "</table>\n",
       "</div>"
      ],
      "text/plain": [
       "        date  open  high   low  close  adjclose      volume ticker\n",
       "0 2020-01-01 74.06 81.96 73.19  77.38     76.36  2934370400   AAPL\n",
       "1 2020-02-01 76.07 81.81 64.09  68.34     67.44  3019279200   AAPL\n",
       "2 2020-03-01 70.57 76.00 53.15  63.57     62.88  6280072400   AAPL\n",
       "3 2020-04-01 61.62 73.63 59.22  73.45     72.65  3265299200   AAPL\n",
       "4 2020-05-01 71.56 81.06 71.46  79.49     78.62  2805936000   AAPL"
      ]
     },
     "execution_count": 6,
     "metadata": {},
     "output_type": "execute_result"
    }
   ],
   "source": [
    "dow_historical_df = pd.DataFrame()\n",
    "\n",
    "for stock,data in dow_historical.items():\n",
    "    dow_historical_df = pd.concat([dow_historical_df, data] , axis=0)\n",
    "\n",
    "dow_historical_df.head()"
   ]
  },
  {
   "cell_type": "code",
   "execution_count": 7,
   "metadata": {},
   "outputs": [],
   "source": [
    "dow_historical_df['month'] = dow_historical_df['date'].dt.month"
   ]
  },
  {
   "cell_type": "markdown",
   "metadata": {},
   "source": [
    "#### Average Trading Volume Comparison"
   ]
  },
  {
   "cell_type": "code",
   "execution_count": 16,
   "metadata": {},
   "outputs": [
    {
     "data": {
      "text/plain": [
       "<Figure size 864x288 with 0 Axes>"
      ]
     },
     "execution_count": 16,
     "metadata": {},
     "output_type": "execute_result"
    },
    {
     "data": {
      "text/plain": [
       "<AxesSubplot:xlabel='ticker'>"
      ]
     },
     "execution_count": 16,
     "metadata": {},
     "output_type": "execute_result"
    },
    {
     "data": {
      "image/png": "[encoded data removed]",
      "text/plain": [
       "<Figure size 864x288 with 1 Axes>"
      ]
     },
     "metadata": {},
     "output_type": "display_data"
    }
   ],
   "source": [
    "plt.figure(figsize=(12,4))\n",
    "dow_historical_df.groupby('ticker')['volume'].mean().plot.bar()"
   ]
  },
  {
   "cell_type": "markdown",
   "metadata": {},
   "source": [
    "Apple is the most traded stock, far ahead of the next stock Microsoft. Next 3 are Intel, Boeing and Cisco"
   ]
  },
  {
   "cell_type": "markdown",
   "metadata": {},
   "source": [
    "#### Comparing Price for Top Technology Stocks"
   ]
  },
  {
   "cell_type": "code",
   "execution_count": 22,
   "metadata": {},
   "outputs": [],
   "source": [
    "tickers = ['AAPL', 'IBM', 'MSFT', 'INTC', 'CSCO']\n",
    "\n",
    "dow_tickers = dow_historical_df[dow_historical_df['ticker'].isin(tickers)]    "
   ]
  },
  {
   "cell_type": "code",
   "execution_count": 23,
   "metadata": {},
   "outputs": [
    {
     "data": {
      "image/png": "[encoded data removed]",
      "text/plain": [
       "<Figure size 1008x432 with 1 Axes>"
      ]
     },
     "metadata": {},
     "output_type": "display_data"
    }
   ],
   "source": [
    "plt.figure(figsize=(14,6))\n",
    "sns.lineplot(x='date', y='close', hue='ticker', data=dow_tickers);"
   ]
  },
  {
   "cell_type": "markdown",
   "metadata": {},
   "source": [
    "IBM, Intel and Cisco have mostly remained flat throughout the year.  \n",
    "Apple and Microsoft seems to follow strikingly similar trend"
   ]
  },
  {
   "cell_type": "markdown",
   "metadata": {},
   "source": [
    "#### Get Fundamentals Data for all 30 Dow Jones Stocks"
   ]
  },
  {
   "cell_type": "code",
   "execution_count": 25,
   "metadata": {},
   "outputs": [],
   "source": [
    "dow_stats = {}\n",
    "\n",
    "for stock in dow_stocks:\n",
    "    dow_stats[stock] = get_stats_valuation(stock)"
   ]
  },
  {
   "cell_type": "code",
   "execution_count": 26,
   "metadata": {},
   "outputs": [
    {
     "data": {
      "text/html": [
       "<div>\n",
       "<style scoped>\n",
       "    .dataframe tbody tr th:only-of-type {\n",
       "        vertical-align: middle;\n",
       "    }\n",
       "\n",
       "    .dataframe tbody tr th {\n",
       "        vertical-align: top;\n",
       "    }\n",
       "\n",
       "    .dataframe thead th {\n",
       "        text-align: right;\n",
       "    }\n",
       "</style>\n",
       "<table border=\"1\" class=\"dataframe\">\n",
       "  <thead>\n",
       "    <tr style=\"text-align: right;\">\n",
       "      <th></th>\n",
       "      <th></th>\n",
       "      <th>0</th>\n",
       "      <th>1</th>\n",
       "    </tr>\n",
       "  </thead>\n",
       "  <tbody>\n",
       "    <tr>\n",
       "      <th rowspan=\"9\" valign=\"top\">AAPL</th>\n",
       "      <th>0</th>\n",
       "      <td>Market Cap (intraday) 5</td>\n",
       "      <td>2.48T</td>\n",
       "    </tr>\n",
       "    <tr>\n",
       "      <th>1</th>\n",
       "      <td>Enterprise Value 3</td>\n",
       "      <td>2.56T</td>\n",
       "    </tr>\n",
       "    <tr>\n",
       "      <th>2</th>\n",
       "      <td>Trailing P/E</td>\n",
       "      <td>29.36</td>\n",
       "    </tr>\n",
       "    <tr>\n",
       "      <th>3</th>\n",
       "      <td>Forward P/E 1</td>\n",
       "      <td>26.45</td>\n",
       "    </tr>\n",
       "    <tr>\n",
       "      <th>4</th>\n",
       "      <td>PEG Ratio (5 yr expected) 1</td>\n",
       "      <td>1.34</td>\n",
       "    </tr>\n",
       "    <tr>\n",
       "      <th>5</th>\n",
       "      <td>Price/Sales (ttm)</td>\n",
       "      <td>7.14</td>\n",
       "    </tr>\n",
       "    <tr>\n",
       "      <th>6</th>\n",
       "      <td>Price/Book (mrq)</td>\n",
       "      <td>38.63</td>\n",
       "    </tr>\n",
       "    <tr>\n",
       "      <th>7</th>\n",
       "      <td>Enterprise Value/Revenue 3</td>\n",
       "      <td>7.36</td>\n",
       "    </tr>\n",
       "    <tr>\n",
       "      <th>8</th>\n",
       "      <td>Enterprise Value/EBITDA 7</td>\n",
       "      <td>23.05</td>\n",
       "    </tr>\n",
       "  </tbody>\n",
       "</table>\n",
       "</div>"
      ],
      "text/plain": [
       "                                  0      1\n",
       "AAPL 0      Market Cap (intraday) 5  2.48T\n",
       "     1           Enterprise Value 3  2.56T\n",
       "     2                 Trailing P/E  29.36\n",
       "     3                Forward P/E 1  26.45\n",
       "     4  PEG Ratio (5 yr expected) 1   1.34\n",
       "     5            Price/Sales (ttm)   7.14\n",
       "     6             Price/Book (mrq)  38.63\n",
       "     7   Enterprise Value/Revenue 3   7.36\n",
       "     8    Enterprise Value/EBITDA 7  23.05"
      ]
     },
     "execution_count": 26,
     "metadata": {},
     "output_type": "execute_result"
    }
   ],
   "source": [
    "dow_stats_df = pd.concat(dow_stats)\n",
    "dow_stats_df.head(9)"
   ]
  },
  {
   "cell_type": "code",
   "execution_count": 27,
   "metadata": {},
   "outputs": [
    {
     "data": {
      "text/html": [
       "<div>\n",
       "<style scoped>\n",
       "    .dataframe tbody tr th:only-of-type {\n",
       "        vertical-align: middle;\n",
       "    }\n",
       "\n",
       "    .dataframe tbody tr th {\n",
       "        vertical-align: top;\n",
       "    }\n",
       "\n",
       "    .dataframe thead th {\n",
       "        text-align: right;\n",
       "    }\n",
       "</style>\n",
       "<table border=\"1\" class=\"dataframe\">\n",
       "  <thead>\n",
       "    <tr style=\"text-align: right;\">\n",
       "      <th></th>\n",
       "      <th>level_0</th>\n",
       "      <th>level_1</th>\n",
       "      <th>0</th>\n",
       "      <th>1</th>\n",
       "    </tr>\n",
       "  </thead>\n",
       "  <tbody>\n",
       "    <tr>\n",
       "      <th>0</th>\n",
       "      <td>AAPL</td>\n",
       "      <td>0</td>\n",
       "      <td>Market Cap (intraday) 5</td>\n",
       "      <td>2.48T</td>\n",
       "    </tr>\n",
       "    <tr>\n",
       "      <th>1</th>\n",
       "      <td>AAPL</td>\n",
       "      <td>1</td>\n",
       "      <td>Enterprise Value 3</td>\n",
       "      <td>2.56T</td>\n",
       "    </tr>\n",
       "    <tr>\n",
       "      <th>2</th>\n",
       "      <td>AAPL</td>\n",
       "      <td>2</td>\n",
       "      <td>Trailing P/E</td>\n",
       "      <td>29.36</td>\n",
       "    </tr>\n",
       "    <tr>\n",
       "      <th>3</th>\n",
       "      <td>AAPL</td>\n",
       "      <td>3</td>\n",
       "      <td>Forward P/E 1</td>\n",
       "      <td>26.45</td>\n",
       "    </tr>\n",
       "    <tr>\n",
       "      <th>4</th>\n",
       "      <td>AAPL</td>\n",
       "      <td>4</td>\n",
       "      <td>PEG Ratio (5 yr expected) 1</td>\n",
       "      <td>1.34</td>\n",
       "    </tr>\n",
       "  </tbody>\n",
       "</table>\n",
       "</div>"
      ],
      "text/plain": [
       "  level_0  level_1                            0      1\n",
       "0    AAPL        0      Market Cap (intraday) 5  2.48T\n",
       "1    AAPL        1           Enterprise Value 3  2.56T\n",
       "2    AAPL        2                 Trailing P/E  29.36\n",
       "3    AAPL        3                Forward P/E 1  26.45\n",
       "4    AAPL        4  PEG Ratio (5 yr expected) 1   1.34"
      ]
     },
     "execution_count": 27,
     "metadata": {},
     "output_type": "execute_result"
    }
   ],
   "source": [
    "dow_stats_df.reset_index(inplace=True)\n",
    "dow_stats_df.head()"
   ]
  },
  {
   "cell_type": "code",
   "execution_count": 28,
   "metadata": {},
   "outputs": [],
   "source": [
    "dow_stats_df.drop(['level_1'], inplace=True, axis=1)"
   ]
  },
  {
   "cell_type": "code",
   "execution_count": 30,
   "metadata": {},
   "outputs": [
    {
     "data": {
      "text/html": [
       "<div>\n",
       "<style scoped>\n",
       "    .dataframe tbody tr th:only-of-type {\n",
       "        vertical-align: middle;\n",
       "    }\n",
       "\n",
       "    .dataframe tbody tr th {\n",
       "        vertical-align: top;\n",
       "    }\n",
       "\n",
       "    .dataframe thead th {\n",
       "        text-align: right;\n",
       "    }\n",
       "</style>\n",
       "<table border=\"1\" class=\"dataframe\">\n",
       "  <thead>\n",
       "    <tr style=\"text-align: right;\">\n",
       "      <th></th>\n",
       "      <th>Ticker</th>\n",
       "      <th>Stat</th>\n",
       "      <th>Value</th>\n",
       "    </tr>\n",
       "  </thead>\n",
       "  <tbody>\n",
       "    <tr>\n",
       "      <th>0</th>\n",
       "      <td>AAPL</td>\n",
       "      <td>Market Cap (intraday) 5</td>\n",
       "      <td>2.48T</td>\n",
       "    </tr>\n",
       "    <tr>\n",
       "      <th>1</th>\n",
       "      <td>AAPL</td>\n",
       "      <td>Enterprise Value 3</td>\n",
       "      <td>2.56T</td>\n",
       "    </tr>\n",
       "    <tr>\n",
       "      <th>2</th>\n",
       "      <td>AAPL</td>\n",
       "      <td>Trailing P/E</td>\n",
       "      <td>29.36</td>\n",
       "    </tr>\n",
       "    <tr>\n",
       "      <th>3</th>\n",
       "      <td>AAPL</td>\n",
       "      <td>Forward P/E 1</td>\n",
       "      <td>26.45</td>\n",
       "    </tr>\n",
       "    <tr>\n",
       "      <th>4</th>\n",
       "      <td>AAPL</td>\n",
       "      <td>PEG Ratio (5 yr expected) 1</td>\n",
       "      <td>1.34</td>\n",
       "    </tr>\n",
       "    <tr>\n",
       "      <th>5</th>\n",
       "      <td>AAPL</td>\n",
       "      <td>Price/Sales (ttm)</td>\n",
       "      <td>7.14</td>\n",
       "    </tr>\n",
       "    <tr>\n",
       "      <th>6</th>\n",
       "      <td>AAPL</td>\n",
       "      <td>Price/Book (mrq)</td>\n",
       "      <td>38.63</td>\n",
       "    </tr>\n",
       "    <tr>\n",
       "      <th>7</th>\n",
       "      <td>AAPL</td>\n",
       "      <td>Enterprise Value/Revenue 3</td>\n",
       "      <td>7.36</td>\n",
       "    </tr>\n",
       "    <tr>\n",
       "      <th>8</th>\n",
       "      <td>AAPL</td>\n",
       "      <td>Enterprise Value/EBITDA 7</td>\n",
       "      <td>23.05</td>\n",
       "    </tr>\n",
       "  </tbody>\n",
       "</table>\n",
       "</div>"
      ],
      "text/plain": [
       "  Ticker                         Stat  Value\n",
       "0   AAPL      Market Cap (intraday) 5  2.48T\n",
       "1   AAPL           Enterprise Value 3  2.56T\n",
       "2   AAPL                 Trailing P/E  29.36\n",
       "3   AAPL                Forward P/E 1  26.45\n",
       "4   AAPL  PEG Ratio (5 yr expected) 1   1.34\n",
       "5   AAPL            Price/Sales (ttm)   7.14\n",
       "6   AAPL             Price/Book (mrq)  38.63\n",
       "7   AAPL   Enterprise Value/Revenue 3   7.36\n",
       "8   AAPL    Enterprise Value/EBITDA 7  23.05"
      ]
     },
     "execution_count": 30,
     "metadata": {},
     "output_type": "execute_result"
    }
   ],
   "source": [
    "dow_stats_df.columns = [\"Ticker\", \"Stat\", \"Value\"]\n",
    "dow_stats_df.head(9)"
   ]
  },
  {
   "cell_type": "markdown",
   "metadata": {},
   "source": [
    "#### Comparing P/E Ratio"
   ]
  },
  {
   "cell_type": "code",
   "execution_count": 41,
   "metadata": {},
   "outputs": [],
   "source": [
    "pe_ratios = dow_stats_df[dow_stats_df['Stat'] == 'Trailing P/E'].copy()"
   ]
  },
  {
   "cell_type": "code",
   "execution_count": 42,
   "metadata": {},
   "outputs": [],
   "source": [
    "pe_ratios['Value'] = pe_ratios['Value'].astype(float)"
   ]
  },
  {
   "cell_type": "code",
   "execution_count": 47,
   "metadata": {},
   "outputs": [
    {
     "data": {
      "image/png": "[encoded data removed]",
      "text/plain": [
       "<Figure size 1152x432 with 1 Axes>"
      ]
     },
     "metadata": {},
     "output_type": "display_data"
    }
   ],
   "source": [
    "plt.figure(figsize=(16,6))\n",
    "plt.bar(pe_ratios['Ticker'],pe_ratios['Value'])\n",
    "plt.xticks(rotation=45);"
   ]
  },
  {
   "cell_type": "markdown",
   "metadata": {},
   "source": [
    "Top 3 P/E ratios - Salesforce(CRM), Visa(V), Nike(NIKE)"
   ]
  },
  {
   "cell_type": "markdown",
   "metadata": {},
   "source": [
    "#### Comparing Enterprise Value/Revenue Ratio"
   ]
  },
  {
   "cell_type": "code",
   "execution_count": 31,
   "metadata": {},
   "outputs": [],
   "source": [
    "enterprise_value = dow_stats_df[dow_stats_df['Stat'] == 'Enterprise Value/Revenue 3'].copy()"
   ]
  },
  {
   "cell_type": "code",
   "execution_count": 32,
   "metadata": {},
   "outputs": [],
   "source": [
    "enterprise_value['Value'] = enterprise_value['Value'].astype(float)"
   ]
  },
  {
   "cell_type": "code",
   "execution_count": 33,
   "metadata": {},
   "outputs": [
    {
     "data": {
      "image/png": "[encoded data removed]",
      "text/plain": [
       "<Figure size 1152x432 with 1 Axes>"
      ]
     },
     "metadata": {},
     "output_type": "display_data"
    }
   ],
   "source": [
    "plt.figure(figsize=(16,6))\n",
    "plt.bar(enterprise_value['Ticker'],enterprise_value['Value'])\n",
    "plt.xticks(rotation=45);"
   ]
  },
  {
   "cell_type": "markdown",
   "metadata": {},
   "source": [
    "Visa has the highest value compared to revenue, almost double that of next which is Microsoft.  \n",
    "These two are followed by McDonalds, Salesforce and Apple.  \n",
    "Goldman Sachs and JPMorgan have negative value compared to revenue."
   ]
  },
  {
   "cell_type": "markdown",
   "metadata": {},
   "source": [
    "***So, what does having negative enterprise value signify ?***  \n",
    "Yahoo Finance has good news report on this [here](https://finance.yahoo.com/news/negative-enterprise-value-does-really-215939487.html)  \n",
    "\"A negative enterprise value means that a company has more cash than it would need to pay off any debt and buy back all its stocks in one go, if it really wanted to.\" "
   ]
  },
  {
   "cell_type": "markdown",
   "metadata": {},
   "source": [
    "#### Top 10 Stocks with Highest Institutional Holding"
   ]
  },
  {
   "cell_type": "code",
   "execution_count": null,
   "metadata": {},
   "outputs": [],
   "source": [
    "holders = {}\n",
    "for stock in dow_stocks:\n",
    "    holders[stock] = get_holders(stock)['Major Holders']"
   ]
  },
  {
   "cell_type": "code",
   "execution_count": 46,
   "metadata": {},
   "outputs": [
    {
     "data": {
      "text/html": [
       "<div>\n",
       "<style scoped>\n",
       "    .dataframe tbody tr th:only-of-type {\n",
       "        vertical-align: middle;\n",
       "    }\n",
       "\n",
       "    .dataframe tbody tr th {\n",
       "        vertical-align: top;\n",
       "    }\n",
       "\n",
       "    .dataframe thead th {\n",
       "        text-align: right;\n",
       "    }\n",
       "</style>\n",
       "<table border=\"1\" class=\"dataframe\">\n",
       "  <thead>\n",
       "    <tr style=\"text-align: right;\">\n",
       "      <th></th>\n",
       "      <th></th>\n",
       "      <th>0</th>\n",
       "      <th>1</th>\n",
       "    </tr>\n",
       "  </thead>\n",
       "  <tbody>\n",
       "    <tr>\n",
       "      <th rowspan=\"4\" valign=\"top\">AAPL</th>\n",
       "      <th>0</th>\n",
       "      <td>0.07%</td>\n",
       "      <td>% of Shares Held by All Insider</td>\n",
       "    </tr>\n",
       "    <tr>\n",
       "      <th>1</th>\n",
       "      <td>58.45%</td>\n",
       "      <td>% of Shares Held by Institutions</td>\n",
       "    </tr>\n",
       "    <tr>\n",
       "      <th>2</th>\n",
       "      <td>58.49%</td>\n",
       "      <td>% of Float Held by Institutions</td>\n",
       "    </tr>\n",
       "    <tr>\n",
       "      <th>3</th>\n",
       "      <td>4958</td>\n",
       "      <td>Number of Institutions Holding Shares</td>\n",
       "    </tr>\n",
       "    <tr>\n",
       "      <th>AMGN</th>\n",
       "      <th>0</th>\n",
       "      <td>0.20%</td>\n",
       "      <td>% of Shares Held by All Insider</td>\n",
       "    </tr>\n",
       "  </tbody>\n",
       "</table>\n",
       "</div>"
      ],
      "text/plain": [
       "             0                                      1\n",
       "AAPL 0   0.07%        % of Shares Held by All Insider\n",
       "     1  58.45%       % of Shares Held by Institutions\n",
       "     2  58.49%        % of Float Held by Institutions\n",
       "     3    4958  Number of Institutions Holding Shares\n",
       "AMGN 0   0.20%        % of Shares Held by All Insider"
      ]
     },
     "execution_count": 46,
     "metadata": {},
     "output_type": "execute_result"
    }
   ],
   "source": [
    "holders_df = pd.DataFrame(pd.concat(holders))\n",
    "holders_df.head()"
   ]
  },
  {
   "cell_type": "code",
   "execution_count": 47,
   "metadata": {},
   "outputs": [
    {
     "data": {
      "text/html": [
       "<div>\n",
       "<style scoped>\n",
       "    .dataframe tbody tr th:only-of-type {\n",
       "        vertical-align: middle;\n",
       "    }\n",
       "\n",
       "    .dataframe tbody tr th {\n",
       "        vertical-align: top;\n",
       "    }\n",
       "\n",
       "    .dataframe thead th {\n",
       "        text-align: right;\n",
       "    }\n",
       "</style>\n",
       "<table border=\"1\" class=\"dataframe\">\n",
       "  <thead>\n",
       "    <tr style=\"text-align: right;\">\n",
       "      <th></th>\n",
       "      <th>level_0</th>\n",
       "      <th>level_1</th>\n",
       "      <th>0</th>\n",
       "      <th>1</th>\n",
       "    </tr>\n",
       "  </thead>\n",
       "  <tbody>\n",
       "    <tr>\n",
       "      <th>1</th>\n",
       "      <td>AAPL</td>\n",
       "      <td>1</td>\n",
       "      <td>58.45%</td>\n",
       "      <td>% of Shares Held by Institutions</td>\n",
       "    </tr>\n",
       "    <tr>\n",
       "      <th>5</th>\n",
       "      <td>AMGN</td>\n",
       "      <td>1</td>\n",
       "      <td>77.53%</td>\n",
       "      <td>% of Shares Held by Institutions</td>\n",
       "    </tr>\n",
       "    <tr>\n",
       "      <th>9</th>\n",
       "      <td>AXP</td>\n",
       "      <td>1</td>\n",
       "      <td>86.93%</td>\n",
       "      <td>% of Shares Held by Institutions</td>\n",
       "    </tr>\n",
       "    <tr>\n",
       "      <th>13</th>\n",
       "      <td>BA</td>\n",
       "      <td>1</td>\n",
       "      <td>54.09%</td>\n",
       "      <td>% of Shares Held by Institutions</td>\n",
       "    </tr>\n",
       "    <tr>\n",
       "      <th>17</th>\n",
       "      <td>CAT</td>\n",
       "      <td>1</td>\n",
       "      <td>69.87%</td>\n",
       "      <td>% of Shares Held by Institutions</td>\n",
       "    </tr>\n",
       "  </tbody>\n",
       "</table>\n",
       "</div>"
      ],
      "text/plain": [
       "   level_0  level_1       0                                 1\n",
       "1     AAPL        1  58.45%  % of Shares Held by Institutions\n",
       "5     AMGN        1  77.53%  % of Shares Held by Institutions\n",
       "9      AXP        1  86.93%  % of Shares Held by Institutions\n",
       "13      BA        1  54.09%  % of Shares Held by Institutions\n",
       "17     CAT        1  69.87%  % of Shares Held by Institutions"
      ]
     },
     "execution_count": 47,
     "metadata": {},
     "output_type": "execute_result"
    }
   ],
   "source": [
    "holders_df.reset_index(inplace=True)\n",
    "holders_df = holders_df[holders_df[1] == '% of Shares Held by Institutions']\n",
    "holders_df.head()"
   ]
  },
  {
   "cell_type": "code",
   "execution_count": 48,
   "metadata": {},
   "outputs": [
    {
     "data": {
      "text/html": [
       "<div>\n",
       "<style scoped>\n",
       "    .dataframe tbody tr th:only-of-type {\n",
       "        vertical-align: middle;\n",
       "    }\n",
       "\n",
       "    .dataframe tbody tr th {\n",
       "        vertical-align: top;\n",
       "    }\n",
       "\n",
       "    .dataframe thead th {\n",
       "        text-align: right;\n",
       "    }\n",
       "</style>\n",
       "<table border=\"1\" class=\"dataframe\">\n",
       "  <thead>\n",
       "    <tr style=\"text-align: right;\">\n",
       "      <th></th>\n",
       "      <th>ticker</th>\n",
       "      <th>inst_holding</th>\n",
       "    </tr>\n",
       "  </thead>\n",
       "  <tbody>\n",
       "    <tr>\n",
       "      <th>1</th>\n",
       "      <td>AAPL</td>\n",
       "      <td>58.45%</td>\n",
       "    </tr>\n",
       "    <tr>\n",
       "      <th>5</th>\n",
       "      <td>AMGN</td>\n",
       "      <td>77.53%</td>\n",
       "    </tr>\n",
       "    <tr>\n",
       "      <th>9</th>\n",
       "      <td>AXP</td>\n",
       "      <td>86.93%</td>\n",
       "    </tr>\n",
       "    <tr>\n",
       "      <th>13</th>\n",
       "      <td>BA</td>\n",
       "      <td>54.09%</td>\n",
       "    </tr>\n",
       "    <tr>\n",
       "      <th>17</th>\n",
       "      <td>CAT</td>\n",
       "      <td>69.87%</td>\n",
       "    </tr>\n",
       "  </tbody>\n",
       "</table>\n",
       "</div>"
      ],
      "text/plain": [
       "   ticker inst_holding\n",
       "1    AAPL       58.45%\n",
       "5    AMGN       77.53%\n",
       "9     AXP       86.93%\n",
       "13     BA       54.09%\n",
       "17    CAT       69.87%"
      ]
     },
     "execution_count": 48,
     "metadata": {},
     "output_type": "execute_result"
    }
   ],
   "source": [
    "holders_df.drop(['level_1',1], axis=1, inplace=True)\n",
    "holders_df.columns = ['ticker','inst_holding']\n",
    "holders_df.head()"
   ]
  },
  {
   "cell_type": "code",
   "execution_count": 51,
   "metadata": {},
   "outputs": [],
   "source": [
    "holders_df['inst_holding'] = holders_df['inst_holding'].str.replace('%','').astype('float')"
   ]
  },
  {
   "cell_type": "code",
   "execution_count": 55,
   "metadata": {},
   "outputs": [
    {
     "data": {
      "text/html": [
       "<div>\n",
       "<style scoped>\n",
       "    .dataframe tbody tr th:only-of-type {\n",
       "        vertical-align: middle;\n",
       "    }\n",
       "\n",
       "    .dataframe tbody tr th {\n",
       "        vertical-align: top;\n",
       "    }\n",
       "\n",
       "    .dataframe thead th {\n",
       "        text-align: right;\n",
       "    }\n",
       "</style>\n",
       "<table border=\"1\" class=\"dataframe\">\n",
       "  <thead>\n",
       "    <tr style=\"text-align: right;\">\n",
       "      <th></th>\n",
       "      <th>ticker</th>\n",
       "      <th>inst_holding</th>\n",
       "    </tr>\n",
       "  </thead>\n",
       "  <tbody>\n",
       "    <tr>\n",
       "      <th>105</th>\n",
       "      <td>V</td>\n",
       "      <td>96.64</td>\n",
       "    </tr>\n",
       "    <tr>\n",
       "      <th>101</th>\n",
       "      <td>UNH</td>\n",
       "      <td>89.09</td>\n",
       "    </tr>\n",
       "    <tr>\n",
       "      <th>9</th>\n",
       "      <td>AXP</td>\n",
       "      <td>86.93</td>\n",
       "    </tr>\n",
       "    <tr>\n",
       "      <th>97</th>\n",
       "      <td>TRV</td>\n",
       "      <td>84.36</td>\n",
       "    </tr>\n",
       "    <tr>\n",
       "      <th>89</th>\n",
       "      <td>NKE</td>\n",
       "      <td>82.98</td>\n",
       "    </tr>\n",
       "    <tr>\n",
       "      <th>21</th>\n",
       "      <td>CRM</td>\n",
       "      <td>80.39</td>\n",
       "    </tr>\n",
       "    <tr>\n",
       "      <th>5</th>\n",
       "      <td>AMGN</td>\n",
       "      <td>77.53</td>\n",
       "    </tr>\n",
       "    <tr>\n",
       "      <th>49</th>\n",
       "      <td>HON</td>\n",
       "      <td>76.98</td>\n",
       "    </tr>\n",
       "    <tr>\n",
       "      <th>25</th>\n",
       "      <td>CSCO</td>\n",
       "      <td>75.09</td>\n",
       "    </tr>\n",
       "    <tr>\n",
       "      <th>81</th>\n",
       "      <td>MRK</td>\n",
       "      <td>74.82</td>\n",
       "    </tr>\n",
       "  </tbody>\n",
       "</table>\n",
       "</div>"
      ],
      "text/plain": [
       "    ticker  inst_holding\n",
       "105      V         96.64\n",
       "101    UNH         89.09\n",
       "9      AXP         86.93\n",
       "97     TRV         84.36\n",
       "89     NKE         82.98\n",
       "21     CRM         80.39\n",
       "5     AMGN         77.53\n",
       "49     HON         76.98\n",
       "25    CSCO         75.09\n",
       "81     MRK         74.82"
      ]
     },
     "execution_count": 55,
     "metadata": {},
     "output_type": "execute_result"
    }
   ],
   "source": [
    "holders_df.sort_values('inst_holding', ascending=False).head(10)"
   ]
  },
  {
   "cell_type": "markdown",
   "metadata": {},
   "source": [
    "Visa has 96.64% of shares held by Institutional Investors"
   ]
  },
  {
   "cell_type": "markdown",
   "metadata": {},
   "source": [
    "#### Top Institutional Holders"
   ]
  },
  {
   "cell_type": "code",
   "execution_count": 56,
   "metadata": {},
   "outputs": [],
   "source": [
    "holders = {}\n",
    "for stock in dow_stocks:\n",
    "    holders[stock] = get_holders(stock)['Direct Holders (Forms 3 and 4)']"
   ]
  },
  {
   "cell_type": "code",
   "execution_count": 58,
   "metadata": {},
   "outputs": [
    {
     "data": {
      "text/html": [
       "<div>\n",
       "<style scoped>\n",
       "    .dataframe tbody tr th:only-of-type {\n",
       "        vertical-align: middle;\n",
       "    }\n",
       "\n",
       "    .dataframe tbody tr th {\n",
       "        vertical-align: top;\n",
       "    }\n",
       "\n",
       "    .dataframe thead th {\n",
       "        text-align: right;\n",
       "    }\n",
       "</style>\n",
       "<table border=\"1\" class=\"dataframe\">\n",
       "  <thead>\n",
       "    <tr style=\"text-align: right;\">\n",
       "      <th></th>\n",
       "      <th></th>\n",
       "      <th>Holder</th>\n",
       "      <th>Shares</th>\n",
       "      <th>Date Reported</th>\n",
       "      <th>% Out</th>\n",
       "      <th>Value</th>\n",
       "    </tr>\n",
       "  </thead>\n",
       "  <tbody>\n",
       "    <tr>\n",
       "      <th rowspan=\"5\" valign=\"top\">AAPL</th>\n",
       "      <th>0</th>\n",
       "      <td>Vanguard Group, Inc. (The)</td>\n",
       "      <td>1264936543</td>\n",
       "      <td>Jun 29, 2021</td>\n",
       "      <td>7.65%</td>\n",
       "      <td>173245708929</td>\n",
       "    </tr>\n",
       "    <tr>\n",
       "      <th>1</th>\n",
       "      <td>Blackrock Inc.</td>\n",
       "      <td>1028698316</td>\n",
       "      <td>Jun 29, 2021</td>\n",
       "      <td>6.22%</td>\n",
       "      <td>140890521359</td>\n",
       "    </tr>\n",
       "    <tr>\n",
       "      <th>2</th>\n",
       "      <td>Berkshire Hathaway, Inc</td>\n",
       "      <td>887135554</td>\n",
       "      <td>Jun 29, 2021</td>\n",
       "      <td>5.37%</td>\n",
       "      <td>121502085475</td>\n",
       "    </tr>\n",
       "    <tr>\n",
       "      <th>3</th>\n",
       "      <td>State Street Corporation</td>\n",
       "      <td>622579947</td>\n",
       "      <td>Jun 29, 2021</td>\n",
       "      <td>3.77%</td>\n",
       "      <td>85268549541</td>\n",
       "    </tr>\n",
       "    <tr>\n",
       "      <th>4</th>\n",
       "      <td>FMR, LLC</td>\n",
       "      <td>350462986</td>\n",
       "      <td>Jun 29, 2021</td>\n",
       "      <td>2.12%</td>\n",
       "      <td>47999410562</td>\n",
       "    </tr>\n",
       "  </tbody>\n",
       "</table>\n",
       "</div>"
      ],
      "text/plain": [
       "                            Holder      Shares Date Reported  % Out  \\\n",
       "AAPL 0  Vanguard Group, Inc. (The)  1264936543  Jun 29, 2021  7.65%   \n",
       "     1              Blackrock Inc.  1028698316  Jun 29, 2021  6.22%   \n",
       "     2     Berkshire Hathaway, Inc   887135554  Jun 29, 2021  5.37%   \n",
       "     3    State Street Corporation   622579947  Jun 29, 2021  3.77%   \n",
       "     4                    FMR, LLC   350462986  Jun 29, 2021  2.12%   \n",
       "\n",
       "               Value  \n",
       "AAPL 0  173245708929  \n",
       "     1  140890521359  \n",
       "     2  121502085475  \n",
       "     3   85268549541  \n",
       "     4   47999410562  "
      ]
     },
     "execution_count": 58,
     "metadata": {},
     "output_type": "execute_result"
    }
   ],
   "source": [
    "top_holders = pd.DataFrame(pd.concat(holders))\n",
    "top_holders.head()"
   ]
  },
  {
   "cell_type": "code",
   "execution_count": 59,
   "metadata": {},
   "outputs": [
    {
     "data": {
      "text/html": [
       "<div>\n",
       "<style scoped>\n",
       "    .dataframe tbody tr th:only-of-type {\n",
       "        vertical-align: middle;\n",
       "    }\n",
       "\n",
       "    .dataframe tbody tr th {\n",
       "        vertical-align: top;\n",
       "    }\n",
       "\n",
       "    .dataframe thead th {\n",
       "        text-align: right;\n",
       "    }\n",
       "</style>\n",
       "<table border=\"1\" class=\"dataframe\">\n",
       "  <thead>\n",
       "    <tr style=\"text-align: right;\">\n",
       "      <th></th>\n",
       "      <th>level_0</th>\n",
       "      <th>level_1</th>\n",
       "      <th>Holder</th>\n",
       "      <th>Shares</th>\n",
       "      <th>Date Reported</th>\n",
       "      <th>% Out</th>\n",
       "      <th>Value</th>\n",
       "    </tr>\n",
       "  </thead>\n",
       "  <tbody>\n",
       "    <tr>\n",
       "      <th>0</th>\n",
       "      <td>AAPL</td>\n",
       "      <td>0</td>\n",
       "      <td>Vanguard Group, Inc. (The)</td>\n",
       "      <td>1264936543</td>\n",
       "      <td>Jun 29, 2021</td>\n",
       "      <td>7.65%</td>\n",
       "      <td>173245708929</td>\n",
       "    </tr>\n",
       "    <tr>\n",
       "      <th>1</th>\n",
       "      <td>AAPL</td>\n",
       "      <td>1</td>\n",
       "      <td>Blackrock Inc.</td>\n",
       "      <td>1028698316</td>\n",
       "      <td>Jun 29, 2021</td>\n",
       "      <td>6.22%</td>\n",
       "      <td>140890521359</td>\n",
       "    </tr>\n",
       "    <tr>\n",
       "      <th>2</th>\n",
       "      <td>AAPL</td>\n",
       "      <td>2</td>\n",
       "      <td>Berkshire Hathaway, Inc</td>\n",
       "      <td>887135554</td>\n",
       "      <td>Jun 29, 2021</td>\n",
       "      <td>5.37%</td>\n",
       "      <td>121502085475</td>\n",
       "    </tr>\n",
       "    <tr>\n",
       "      <th>3</th>\n",
       "      <td>AAPL</td>\n",
       "      <td>3</td>\n",
       "      <td>State Street Corporation</td>\n",
       "      <td>622579947</td>\n",
       "      <td>Jun 29, 2021</td>\n",
       "      <td>3.77%</td>\n",
       "      <td>85268549541</td>\n",
       "    </tr>\n",
       "    <tr>\n",
       "      <th>4</th>\n",
       "      <td>AAPL</td>\n",
       "      <td>4</td>\n",
       "      <td>FMR, LLC</td>\n",
       "      <td>350462986</td>\n",
       "      <td>Jun 29, 2021</td>\n",
       "      <td>2.12%</td>\n",
       "      <td>47999410562</td>\n",
       "    </tr>\n",
       "  </tbody>\n",
       "</table>\n",
       "</div>"
      ],
      "text/plain": [
       "  level_0  level_1                      Holder      Shares Date Reported  \\\n",
       "0    AAPL        0  Vanguard Group, Inc. (The)  1264936543  Jun 29, 2021   \n",
       "1    AAPL        1              Blackrock Inc.  1028698316  Jun 29, 2021   \n",
       "2    AAPL        2     Berkshire Hathaway, Inc   887135554  Jun 29, 2021   \n",
       "3    AAPL        3    State Street Corporation   622579947  Jun 29, 2021   \n",
       "4    AAPL        4                    FMR, LLC   350462986  Jun 29, 2021   \n",
       "\n",
       "   % Out         Value  \n",
       "0  7.65%  173245708929  \n",
       "1  6.22%  140890521359  \n",
       "2  5.37%  121502085475  \n",
       "3  3.77%   85268549541  \n",
       "4  2.12%   47999410562  "
      ]
     },
     "execution_count": 59,
     "metadata": {},
     "output_type": "execute_result"
    }
   ],
   "source": [
    "top_holders.reset_index(inplace=True)\n",
    "top_holders.head()"
   ]
  },
  {
   "cell_type": "code",
   "execution_count": 63,
   "metadata": {},
   "outputs": [],
   "source": [
    "top_holders.rename({'level_0':'ticker'},axis=1,inplace=True)"
   ]
  },
  {
   "cell_type": "code",
   "execution_count": 65,
   "metadata": {},
   "outputs": [],
   "source": [
    "top_holders.rename({'% Out':'holding%'},axis=1,inplace=True)"
   ]
  },
  {
   "cell_type": "code",
   "execution_count": 68,
   "metadata": {},
   "outputs": [],
   "source": [
    "top_holders['holding%'] = top_holders['holding%'].str.replace('%','').astype('float')"
   ]
  },
  {
   "cell_type": "code",
   "execution_count": 61,
   "metadata": {},
   "outputs": [],
   "source": [
    "top_holders.drop('level_1', axis=1, inplace=True)"
   ]
  },
  {
   "cell_type": "code",
   "execution_count": 69,
   "metadata": {},
   "outputs": [
    {
     "data": {
      "text/html": [
       "<div>\n",
       "<style scoped>\n",
       "    .dataframe tbody tr th:only-of-type {\n",
       "        vertical-align: middle;\n",
       "    }\n",
       "\n",
       "    .dataframe tbody tr th {\n",
       "        vertical-align: top;\n",
       "    }\n",
       "\n",
       "    .dataframe thead th {\n",
       "        text-align: right;\n",
       "    }\n",
       "</style>\n",
       "<table border=\"1\" class=\"dataframe\">\n",
       "  <thead>\n",
       "    <tr style=\"text-align: right;\">\n",
       "      <th></th>\n",
       "      <th>ticker</th>\n",
       "      <th>Holder</th>\n",
       "      <th>Shares</th>\n",
       "      <th>Date Reported</th>\n",
       "      <th>holding%</th>\n",
       "      <th>Value</th>\n",
       "    </tr>\n",
       "  </thead>\n",
       "  <tbody>\n",
       "    <tr>\n",
       "      <th>0</th>\n",
       "      <td>AAPL</td>\n",
       "      <td>Vanguard Group, Inc. (The)</td>\n",
       "      <td>1264936543</td>\n",
       "      <td>Jun 29, 2021</td>\n",
       "      <td>7.65</td>\n",
       "      <td>173245708929</td>\n",
       "    </tr>\n",
       "    <tr>\n",
       "      <th>1</th>\n",
       "      <td>AAPL</td>\n",
       "      <td>Blackrock Inc.</td>\n",
       "      <td>1028698316</td>\n",
       "      <td>Jun 29, 2021</td>\n",
       "      <td>6.22</td>\n",
       "      <td>140890521359</td>\n",
       "    </tr>\n",
       "    <tr>\n",
       "      <th>2</th>\n",
       "      <td>AAPL</td>\n",
       "      <td>Berkshire Hathaway, Inc</td>\n",
       "      <td>887135554</td>\n",
       "      <td>Jun 29, 2021</td>\n",
       "      <td>5.37</td>\n",
       "      <td>121502085475</td>\n",
       "    </tr>\n",
       "    <tr>\n",
       "      <th>3</th>\n",
       "      <td>AAPL</td>\n",
       "      <td>State Street Corporation</td>\n",
       "      <td>622579947</td>\n",
       "      <td>Jun 29, 2021</td>\n",
       "      <td>3.77</td>\n",
       "      <td>85268549541</td>\n",
       "    </tr>\n",
       "    <tr>\n",
       "      <th>4</th>\n",
       "      <td>AAPL</td>\n",
       "      <td>FMR, LLC</td>\n",
       "      <td>350462986</td>\n",
       "      <td>Jun 29, 2021</td>\n",
       "      <td>2.12</td>\n",
       "      <td>47999410562</td>\n",
       "    </tr>\n",
       "  </tbody>\n",
       "</table>\n",
       "</div>"
      ],
      "text/plain": [
       "  ticker                      Holder      Shares Date Reported  holding%  \\\n",
       "0   AAPL  Vanguard Group, Inc. (The)  1264936543  Jun 29, 2021      7.65   \n",
       "1   AAPL              Blackrock Inc.  1028698316  Jun 29, 2021      6.22   \n",
       "2   AAPL     Berkshire Hathaway, Inc   887135554  Jun 29, 2021      5.37   \n",
       "3   AAPL    State Street Corporation   622579947  Jun 29, 2021      3.77   \n",
       "4   AAPL                    FMR, LLC   350462986  Jun 29, 2021      2.12   \n",
       "\n",
       "          Value  \n",
       "0  173245708929  \n",
       "1  140890521359  \n",
       "2  121502085475  \n",
       "3   85268549541  \n",
       "4   47999410562  "
      ]
     },
     "execution_count": 69,
     "metadata": {},
     "output_type": "execute_result"
    }
   ],
   "source": [
    "top_holders.head()"
   ]
  },
  {
   "cell_type": "code",
   "execution_count": 77,
   "metadata": {},
   "outputs": [
    {
     "data": {
      "text/plain": [
       "Blackrock Inc.                         30\n",
       "State Street Corporation               30\n",
       "Vanguard Group, Inc. (The)             30\n",
       "Geode Capital Management, LLC          29\n",
       "Northern Trust Corporation             22\n",
       "FMR, LLC                               17\n",
       "Bank of America Corporation            14\n",
       "Wellington Management Group, LLP       13\n",
       "Morgan Stanley                         12\n",
       "Bank Of New York Mellon Corporation    10\n",
       "Name: Holder, dtype: int64"
      ]
     },
     "execution_count": 77,
     "metadata": {},
     "output_type": "execute_result"
    }
   ],
   "source": [
    "top_holders['Holder'].value_counts().sort_values(ascending=False).head(10)"
   ]
  },
  {
   "cell_type": "code",
   "execution_count": 78,
   "metadata": {},
   "outputs": [
    {
     "data": {
      "text/html": [
       "<div>\n",
       "<style scoped>\n",
       "    .dataframe tbody tr th:only-of-type {\n",
       "        vertical-align: middle;\n",
       "    }\n",
       "\n",
       "    .dataframe tbody tr th {\n",
       "        vertical-align: top;\n",
       "    }\n",
       "\n",
       "    .dataframe thead th {\n",
       "        text-align: right;\n",
       "    }\n",
       "</style>\n",
       "<table border=\"1\" class=\"dataframe\">\n",
       "  <thead>\n",
       "    <tr style=\"text-align: right;\">\n",
       "      <th></th>\n",
       "      <th>ticker</th>\n",
       "      <th>Holder</th>\n",
       "      <th>Shares</th>\n",
       "      <th>Date Reported</th>\n",
       "      <th>holding%</th>\n",
       "      <th>Value</th>\n",
       "    </tr>\n",
       "  </thead>\n",
       "  <tbody>\n",
       "    <tr>\n",
       "      <th>20</th>\n",
       "      <td>AXP</td>\n",
       "      <td>Berkshire Hathaway, Inc</td>\n",
       "      <td>151610700</td>\n",
       "      <td>Jun 29, 2021</td>\n",
       "      <td>19.08</td>\n",
       "      <td>25050635961</td>\n",
       "    </tr>\n",
       "    <tr>\n",
       "      <th>170</th>\n",
       "      <td>KO</td>\n",
       "      <td>Berkshire Hathaway, Inc</td>\n",
       "      <td>400000000</td>\n",
       "      <td>Jun 29, 2021</td>\n",
       "      <td>9.28</td>\n",
       "      <td>21644000000</td>\n",
       "    </tr>\n",
       "    <tr>\n",
       "      <th>200</th>\n",
       "      <td>MRK</td>\n",
       "      <td>Vanguard Group, Inc. (The)</td>\n",
       "      <td>225553790</td>\n",
       "      <td>Jun 29, 2021</td>\n",
       "      <td>8.91</td>\n",
       "      <td>17541318248</td>\n",
       "    </tr>\n",
       "    <tr>\n",
       "      <th>160</th>\n",
       "      <td>JPM</td>\n",
       "      <td>Vanguard Group, Inc. (The)</td>\n",
       "      <td>263376146</td>\n",
       "      <td>Jun 29, 2021</td>\n",
       "      <td>8.81</td>\n",
       "      <td>40965525748</td>\n",
       "    </tr>\n",
       "    <tr>\n",
       "      <th>150</th>\n",
       "      <td>JNJ</td>\n",
       "      <td>Vanguard Group, Inc. (The)</td>\n",
       "      <td>231432368</td>\n",
       "      <td>Jun 29, 2021</td>\n",
       "      <td>8.79</td>\n",
       "      <td>38126168304</td>\n",
       "    </tr>\n",
       "    <tr>\n",
       "      <th>110</th>\n",
       "      <td>HD</td>\n",
       "      <td>Vanguard Group, Inc. (The)</td>\n",
       "      <td>93403489</td>\n",
       "      <td>Mar 30, 2021</td>\n",
       "      <td>8.78</td>\n",
       "      <td>28511415017</td>\n",
       "    </tr>\n",
       "    <tr>\n",
       "      <th>230</th>\n",
       "      <td>PG</td>\n",
       "      <td>Vanguard Group, Inc. (The)</td>\n",
       "      <td>214832442</td>\n",
       "      <td>Jun 29, 2021</td>\n",
       "      <td>8.78</td>\n",
       "      <td>28987341399</td>\n",
       "    </tr>\n",
       "    <tr>\n",
       "      <th>240</th>\n",
       "      <td>TRV</td>\n",
       "      <td>Vanguard Group, Inc. (The)</td>\n",
       "      <td>21650753</td>\n",
       "      <td>Jun 29, 2021</td>\n",
       "      <td>8.68</td>\n",
       "      <td>3241334231</td>\n",
       "    </tr>\n",
       "    <tr>\n",
       "      <th>40</th>\n",
       "      <td>CAT</td>\n",
       "      <td>Vanguard Group, Inc. (The)</td>\n",
       "      <td>47434967</td>\n",
       "      <td>Jun 29, 2021</td>\n",
       "      <td>8.66</td>\n",
       "      <td>10323271868</td>\n",
       "    </tr>\n",
       "    <tr>\n",
       "      <th>180</th>\n",
       "      <td>MCD</td>\n",
       "      <td>Vanguard Group, Inc. (The)</td>\n",
       "      <td>64186119</td>\n",
       "      <td>Mar 30, 2021</td>\n",
       "      <td>8.59</td>\n",
       "      <td>14386676712</td>\n",
       "    </tr>\n",
       "  </tbody>\n",
       "</table>\n",
       "</div>"
      ],
      "text/plain": [
       "    ticker                      Holder     Shares Date Reported  holding%  \\\n",
       "20     AXP     Berkshire Hathaway, Inc  151610700  Jun 29, 2021     19.08   \n",
       "170     KO     Berkshire Hathaway, Inc  400000000  Jun 29, 2021      9.28   \n",
       "200    MRK  Vanguard Group, Inc. (The)  225553790  Jun 29, 2021      8.91   \n",
       "160    JPM  Vanguard Group, Inc. (The)  263376146  Jun 29, 2021      8.81   \n",
       "150    JNJ  Vanguard Group, Inc. (The)  231432368  Jun 29, 2021      8.79   \n",
       "110     HD  Vanguard Group, Inc. (The)   93403489  Mar 30, 2021      8.78   \n",
       "230     PG  Vanguard Group, Inc. (The)  214832442  Jun 29, 2021      8.78   \n",
       "240    TRV  Vanguard Group, Inc. (The)   21650753  Jun 29, 2021      8.68   \n",
       "40     CAT  Vanguard Group, Inc. (The)   47434967  Jun 29, 2021      8.66   \n",
       "180    MCD  Vanguard Group, Inc. (The)   64186119  Mar 30, 2021      8.59   \n",
       "\n",
       "           Value  \n",
       "20   25050635961  \n",
       "170  21644000000  \n",
       "200  17541318248  \n",
       "160  40965525748  \n",
       "150  38126168304  \n",
       "110  28511415017  \n",
       "230  28987341399  \n",
       "240   3241334231  \n",
       "40   10323271868  \n",
       "180  14386676712  "
      ]
     },
     "execution_count": 78,
     "metadata": {},
     "output_type": "execute_result"
    }
   ],
   "source": [
    "top_holders.sort_values('holding%', ascending=False).head(10)"
   ]
  }
 ],
 "metadata": {
  "kernelspec": {
   "display_name": "Python 3",
   "language": "python",
   "name": "python3"
  },
  "language_info": {
   "codemirror_mode": {
    "name": "ipython",
    "version": 3
   },
   "file_extension": ".py",
   "mimetype": "text/x-python",
   "name": "python",
   "nbconvert_exporter": "python",
   "pygments_lexer": "ipython3",
   "version": "3.8.8"
  }
 },
 "nbformat": 4,
 "nbformat_minor": 4
}
